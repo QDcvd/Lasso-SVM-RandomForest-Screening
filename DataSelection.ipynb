{
 "cells": [
  {
   "cell_type": "code",
   "execution_count": 10,
   "id": "cba54028-f2c4-4d5c-886c-e27bee3b6bb8",
   "metadata": {},
   "outputs": [],
   "source": [
    "# 该代码运行目的是整理并筛选核心基因成csv文件\n",
    "import pandas as pd\n",
    "import os\n",
    "import numpy as np\n",
    "import math"
   ]
  },
  {
   "cell_type": "code",
   "execution_count": 11,
   "id": "ab2b4a29-fa0b-4d0c-9da0-a1849315222c",
   "metadata": {},
   "outputs": [],
   "source": [
    "# 读取数据\n",
    "vennData = pd.read_csv(\"dataSet/2025-6-23-dataSet/jVenn_n32.csv\", encoding = 'UTF-8')\n",
    "allDataSet = pd.read_csv(\"dataSet/2025-6-23-dataSet/geneExpress_DropAny0_GSE110729.csv\", encoding = 'UTF-8')"
   ]
  },
  {
   "cell_type": "code",
   "execution_count": 12,
   "id": "c79fa8f5-a633-4bad-921f-904d653a5f0a",
   "metadata": {},
   "outputs": [],
   "source": [
    "# 提取列数据\n",
    "geneName = vennData.iloc[:, -1]\n",
    "geneName = list(geneName.dropna())"
   ]
  },
  {
   "cell_type": "code",
   "execution_count": 13,
   "id": "d335bfb7-a4ad-4e2f-b348-a90ddf18ad6d",
   "metadata": {},
   "outputs": [],
   "source": [
    "# 添加行数据\n",
    "crucialGene = allDataSet.set_index('symbol')\n",
    "\n",
    "# 创建新文件\n",
    "with open('crucialGene_GSE110729.csv', 'w+', encoding='UTF-8') as csvFile:\n",
    "    csvFile.write(\"symbol,SAT_obese_108,SAT_obese_122,SAT_obese_125,SAT_normal_weight_126,SAT_obese_132_1,SAT_normal_weight_143,SAT_obese_149,SAT_obese_154,SAT_obese_16,SAT_normal_weight_160,SAT_normal_weight_203,SAT_normal_weight_219,SAT_obese_226,SAT_obese_24,SAT_normal_weight_250,SAT_normal_weight_275,SAT_normal_weight_302,SAT_normal_weight_37,SAT_normal_weight_4,SAT_normal_weight_42,SAT_obese_46,SAT_obese_53,SAT_obese_64,SAT_obese_66,SAT_normal_weight_69,SAT_normal_weight_70,SAT_obese_77,SAT_normal_weight_78,SAT_obese_86_1,SAT_normal_weight_95,SAT_normal_weight_119,SAT_normal_weight_120,SAT_normal_weight_144,SAT_normal_weight_162,SAT_normal_weight_201,SAT_normal_weight_3,SAT_normal_weight_107,SAT_normal_weight_123,SAT_normal_weight_12,SAT_normal_weight_130,SAT_normal_weight_134,SAT_normal_weight_139,SAT_normal_weight_174,SAT_normal_weight_184,SAT_normal_weight_186,SAT_normal_weight_196,SAT_normal_weight_34,SAT_normal_weight_56,SAT_normal_weight_67,SAT_normal_weight_99,SAT_obese_118,SAT_obese_127,SAT_obese_81,SAT_obese_133,SAT_obese_147,SAT_obese_153,SAT_obese_155,SAT_obese_39,SAT_obese_43,SAT_obese_58,SAT_obese_80\")\n",
    "    csvFile.write('\\n')\n",
    "    for i in geneName:\n",
    "        csvFile.write(i)\n",
    "        csvFile.write(',')\n",
    "        csvFile.write(str(list(crucialGene.loc[i])).replace('[','').replace(']',''))\n",
    "        csvFile.write('\\n')"
   ]
  },
  {
   "cell_type": "code",
   "execution_count": 8,
   "id": "901a9d8a-0fa4-4bee-a476-07bf9e3961a5",
   "metadata": {},
   "outputs": [
    {
     "data": {
      "text/plain": [
       "['ABCC2',\n",
       " 'ADAMTS3',\n",
       " 'ANGPT2',\n",
       " 'ANKDD1A',\n",
       " 'BDKRB2',\n",
       " 'CCL21',\n",
       " 'CCN2',\n",
       " 'CCR1',\n",
       " 'CD14',\n",
       " 'CNKSR3',\n",
       " 'CNN1',\n",
       " 'FBLN7',\n",
       " 'FGF1',\n",
       " 'FGF10',\n",
       " 'FLNC',\n",
       " 'FRZB',\n",
       " 'HMCN2',\n",
       " 'HMOX1',\n",
       " 'HPD',\n",
       " 'IL1RN',\n",
       " 'LILRB3',\n",
       " 'MPZL2',\n",
       " 'MSC',\n",
       " 'NCS1',\n",
       " 'NGFR',\n",
       " 'PEMT',\n",
       " 'PHLDA1',\n",
       " 'PHLDA2',\n",
       " 'PRG4',\n",
       " 'SERPINE1',\n",
       " 'SPP1',\n",
       " 'SYTL2',\n",
       " 'TFPI2',\n",
       " 'TIAM1',\n",
       " 'TIMP1',\n",
       " 'TMEM176B',\n",
       " 'TNC',\n",
       " 'TNFRSF11B',\n",
       " 'UBE2QL1',\n",
       " 'WNT2',\n",
       " 'WNT2B']"
      ]
     },
     "execution_count": 8,
     "metadata": {},
     "output_type": "execute_result"
    }
   ],
   "source": [
    "geneName"
   ]
  },
  {
   "cell_type": "code",
   "execution_count": null,
   "id": "1775255b-256a-4b56-b73c-665ab4948819",
   "metadata": {},
   "outputs": [],
   "source": []
  },
  {
   "cell_type": "code",
   "execution_count": null,
   "id": "48da1f6d-a744-4088-8347-1d7aaaca354c",
   "metadata": {},
   "outputs": [],
   "source": []
  },
  {
   "cell_type": "code",
   "execution_count": null,
   "id": "664f8293-d948-4c51-8e3c-e4a9daea374a",
   "metadata": {},
   "outputs": [],
   "source": []
  }
 ],
 "metadata": {
  "kernelspec": {
   "display_name": "Python 3 (ipykernel)",
   "language": "python",
   "name": "python3"
  },
  "language_info": {
   "codemirror_mode": {
    "name": "ipython",
    "version": 3
   },
   "file_extension": ".py",
   "mimetype": "text/x-python",
   "name": "python",
   "nbconvert_exporter": "python",
   "pygments_lexer": "ipython3",
   "version": "3.11.7"
  }
 },
 "nbformat": 4,
 "nbformat_minor": 5
}
